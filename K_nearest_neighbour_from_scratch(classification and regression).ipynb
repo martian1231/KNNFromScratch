{
 "cells": [
  {
   "cell_type": "markdown",
   "metadata": {},
   "source": [
    "# Introduction\n",
    "KNN (K nearest neighbour) is a proximity based non-parametric algorithm for classification and regression. Please go through \"README\" file for details."
   ]
  },
  {
   "cell_type": "code",
   "execution_count": 222,
   "metadata": {},
   "outputs": [],
   "source": [
    "import numpy as np\n",
    "import pandas as pd\n",
    "from matplotlib.colors import ListedColormap\n",
    "from sklearn.neighbors import BallTree\n",
    "from scipy import stats\n",
    "from sklearn.datasets import make_blobs\n",
    "from tqdm.notebook import tqdm\n",
    "import matplotlib.pyplot as plt\n",
    "from sklearn.model_selection import train_test_split\n",
    "from sklearn.metrics import mean_squared_error, mean_absolute_error"
   ]
  },
  {
   "cell_type": "markdown",
   "metadata": {},
   "source": [
    "# Helper methods"
   ]
  },
  {
   "cell_type": "code",
   "execution_count": 156,
   "metadata": {},
   "outputs": [],
   "source": [
    "def plot_KNN(data, n_neighbors, ball_tree):\n",
    "    '''\n",
    "    This function finds k-NN and plots the data.\n",
    "    '''\n",
    "    X = data[:, :2]\n",
    "    y = data[:,2] \n",
    "    \n",
    "    \n",
    "    # grid cell size\n",
    "    h = .02\n",
    "    cmap_light = ListedColormap(['#FFAAAA',  '#AAAAFF'])\n",
    "    cmap_bold = ListedColormap(['#FF0000', '#0000FF'])\n",
    "\n",
    "    x_min, x_max = X[:, 0].min() - 1, X[:, 0].max() + 1\n",
    "    y_min, y_max = X[:, 1].min() - 1, X[:, 1].max() + 1\n",
    "    \n",
    "    # we create a mesh grid (x_min,y_min) to (x_max y_max) with 0.02 grid spaces\n",
    "    xx, yy = np.meshgrid(np.arange(x_min, x_max, h), np.arange(y_min, y_max, h))\n",
    "    \n",
    "    # we predict the value (either 0 or 1) of each element in the grid\n",
    "    Z = predict(data, np.c_[xx.ravel(), yy.ravel()], n_neighbors, ball_tree)\n",
    "    \n",
    "    # xx.ravel() will give a flatten array\n",
    "\n",
    "    # np.c_ : Translates slice objects to concatenation along the second axis.\n",
    "    # > np.c_[np.array([1,2,3]), np.array([4,5,6])]\n",
    "    # > array([[1, 4],\n",
    "    #          [2, 5],\n",
    "    #          [3, 6]])   (source: np.c_ documentation)\n",
    "    \n",
    "    \n",
    "    \n",
    "    \n",
    "    # convert the out back to the xx shape (we need it to plot the decission boundry)\n",
    "    Z = Z.reshape(xx.shape)\n",
    "    \n",
    "    \n",
    "    # pcolormesh will plot the (xx,yy) grid with colors according to the values of Z\n",
    "    # it looks like decision boundry\n",
    "    plt.figure()\n",
    "    plt.pcolormesh(xx, yy, Z, cmap=cmap_light)\n",
    "   \n",
    "    # scatter plot of with given points\n",
    "    plt.scatter(X[:, 0], X[:, 1], c=y, cmap=cmap_bold)\n",
    "    \n",
    "    #defining scale on both axises\n",
    "    plt.xlim(xx.min(), xx.max())\n",
    "    plt.ylim(yy.min(), yy.max())\n",
    "   \n",
    "    # set the title\n",
    "    plt.title('K value = '+str(n_neighbors))\n",
    "\n",
    "    plt.show()\n",
    "\n",
    "def train(X):\n",
    "    \"\"\"\n",
    "    As there is no training in KNN, we will create a ball-tree for fast searching of nearest neighbours\n",
    "    \"\"\"\n",
    "    # create BallTree\n",
    "    ball_tree = BallTree(X[:, :-1])\n",
    "    return ball_tree\n",
    "\n",
    "def predict(X, query_point_list, K, ball_tree, problem_type= \"classification\"):\n",
    "    \"\"\"\n",
    "    Search for K nearest neighbour to the query point\n",
    "    \"\"\"\n",
    "    # get the index of K NN\n",
    "    _, NN_idx_list = ball_tree.query(query_point_list, K)\n",
    "    \n",
    "    # predicted value for query points\n",
    "    prediction_list = []\n",
    "    \n",
    "    # for each query point, get the majority vote of NN (*takes time to execute)\n",
    "    for NN in tqdm(NN_idx_list):\n",
    "        \n",
    "        # get the target of NNs\n",
    "        NN_target_list = X[NN,-1]\n",
    "        \n",
    "        # if problem type is regression, take mean of NNs\n",
    "        if problem_type == \"regression\":\n",
    "            # take the mean\n",
    "            mean = np.mean(NN_target_list)\n",
    "            \n",
    "            # append the mean to prediction list\n",
    "            prediction_list.append(mean)\n",
    "        \n",
    "        # else take majority vote\n",
    "        else:\n",
    "            # compute mode\n",
    "            label = stats.mode(NN_target_list)[0]\n",
    "\n",
    "            # get mode of NN labels\n",
    "            prediction_list.append(label)\n",
    "        \n",
    "    return np.array(prediction_list)"
   ]
  },
  {
   "cell_type": "markdown",
   "metadata": {},
   "source": [
    "# Create A Toy Dataset For Classification"
   ]
  },
  {
   "cell_type": "code",
   "execution_count": 106,
   "metadata": {},
   "outputs": [],
   "source": [
    "# create binary classification data\n",
    "X, y = make_blobs(n_samples=100, centers=2, n_features=2, \n",
    "                  random_state=10, cluster_std= 3)\n",
    "# add label column\n",
    "data = np.hstack([X, y.reshape(-1, 1)])"
   ]
  },
  {
   "cell_type": "markdown",
   "metadata": {},
   "source": [
    "# Visualization And Observation"
   ]
  },
  {
   "cell_type": "code",
   "execution_count": 116,
   "metadata": {},
   "outputs": [
    {
     "data": {
      "text/plain": [
       "<matplotlib.axes._subplots.AxesSubplot at 0x1f0be729788>"
      ]
     },
     "execution_count": 116,
     "metadata": {},
     "output_type": "execute_result"
    },
    {
     "data": {
      "image/png": "[encoded data removed]",
      "text/plain": [
       "<Figure size 432x288 with 1 Axes>"
      ]
     },
     "metadata": {
      "needs_background": "light"
     },
     "output_type": "display_data"
    }
   ],
   "source": [
    "# visualize the dataset\n",
    "import seaborn as sns\n",
    "sns.scatterplot(data[:, 0], data[:,1], hue= data[:,-1])"
   ]
  },
  {
   "cell_type": "code",
   "execution_count": 108,
   "metadata": {},
   "outputs": [],
   "source": [
    "# create a ball tree (can be thought as a part of training)\n",
    "ball_tree = train(data)"
   ]
  },
  {
   "cell_type": "code",
   "execution_count": 110,
   "metadata": {},
   "outputs": [
    {
     "data": {
      "application/vnd.jupyter.widget-view+json": {
       "model_id": "5fa3b0b8463b4e8cbcf520355f0e4641",
       "version_major": 2,
       "version_minor": 0
      },
      "text/plain": [
       "  0%|          | 0/1429956 [00:00<?, ?it/s]"
      ]
     },
     "metadata": {},
     "output_type": "display_data"
    },
    {
     "data": {
      "image/png": "[encoded data removed]",
      "text/plain": [
       "<Figure size 432x288 with 1 Axes>"
      ]
     },
     "metadata": {
      "needs_background": "light"
     },
     "output_type": "display_data"
    }
   ],
   "source": [
    "# plot the KNN graph with 1 NN\n",
    "K = 1\n",
    "plot_KNN(data, K, ball_tree)"
   ]
  },
  {
   "cell_type": "markdown",
   "metadata": {},
   "source": [
    "**Low value of K results in overfitting. Note decision bounday is sharp and jagged**"
   ]
  },
  {
   "cell_type": "code",
   "execution_count": 111,
   "metadata": {},
   "outputs": [
    {
     "data": {
      "application/vnd.jupyter.widget-view+json": {
       "model_id": "1628fbcbb7e9472a81f5175a9d06e5c0",
       "version_major": 2,
       "version_minor": 0
      },
      "text/plain": [
       "  0%|          | 0/1429956 [00:00<?, ?it/s]"
      ]
     },
     "metadata": {},
     "output_type": "display_data"
    },
    {
     "data": {
      "image/png": "[encoded data removed]",
      "text/plain": [
       "<Figure size 432x288 with 1 Axes>"
      ]
     },
     "metadata": {
      "needs_background": "light"
     },
     "output_type": "display_data"
    }
   ],
   "source": [
    "# plot the KNN graph with 10 NN\n",
    "K = 10\n",
    "plot_KNN(data, K, ball_tree)"
   ]
  },
  {
   "cell_type": "markdown",
   "metadata": {},
   "source": [
    "**Medium value of K results in smooth decision surface, as we increase the K, we tends to underfit as our decision surface becomes more and more smooth**"
   ]
  },
  {
   "cell_type": "code",
   "execution_count": 114,
   "metadata": {},
   "outputs": [
    {
     "data": {
      "application/vnd.jupyter.widget-view+json": {
       "model_id": "bbc417a109bf4c4b8a88d707e5c05a36",
       "version_major": 2,
       "version_minor": 0
      },
      "text/plain": [
       "  0%|          | 0/1429956 [00:00<?, ?it/s]"
      ]
     },
     "metadata": {},
     "output_type": "display_data"
    },
    {
     "data": {
      "image/png": "[encoded data removed]",
      "text/plain": [
       "<Figure size 432x288 with 1 Axes>"
      ]
     },
     "metadata": {
      "needs_background": "light"
     },
     "output_type": "display_data"
    }
   ],
   "source": [
    "# plot the KNN graph with 70 NN\n",
    "K = 70\n",
    "plot_KNN(data, K, ball_tree)"
   ]
  },
  {
   "cell_type": "markdown",
   "metadata": {},
   "source": [
    "**As K tend to N, we approach uniform distribution (equally likely outcome if data set is balanced, otherwise majority class will dominate)**"
   ]
  },
  {
   "cell_type": "markdown",
   "metadata": {},
   "source": [
    "# Create A Toy Dataset For Regression"
   ]
  },
  {
   "cell_type": "code",
   "execution_count": 118,
   "metadata": {},
   "outputs": [],
   "source": [
    "from sklearn.datasets import make_regression"
   ]
  },
  {
   "cell_type": "code",
   "execution_count": 213,
   "metadata": {},
   "outputs": [],
   "source": [
    "data, y = make_regression(n_samples=200, n_features=1, n_informative=1, noise=20, random_state=10)\n",
    "\n",
    "# train test split\n",
    "X_train, X_test, y_train, y_test = train_test_split(data, y, test_size= 0.2)\n",
    "\n",
    "# append target column\n",
    "X_train = np.hstack([X_train, y_train.reshape(-1, 1)])"
   ]
  },
  {
   "cell_type": "markdown",
   "metadata": {},
   "source": [
    "# Visualization And Observation"
   ]
  },
  {
   "cell_type": "code",
   "execution_count": 214,
   "metadata": {},
   "outputs": [
    {
     "data": {
      "text/plain": [
       "<matplotlib.axes._subplots.AxesSubplot at 0x1f09e956248>"
      ]
     },
     "execution_count": 214,
     "metadata": {},
     "output_type": "execute_result"
    },
    {
     "data": {
      "image/png": "[encoded data removed]",
      "text/plain": [
       "<Figure size 432x288 with 1 Axes>"
      ]
     },
     "metadata": {
      "needs_background": "light"
     },
     "output_type": "display_data"
    }
   ],
   "source": [
    "# visualize the dataset\n",
    "import seaborn as sns\n",
    "sns.regplot(data, y)"
   ]
  },
  {
   "cell_type": "code",
   "execution_count": 220,
   "metadata": {},
   "outputs": [],
   "source": [
    "# create a ball tree (can be thought as a part of training)\n",
    "ball_tree = train(X_train)"
   ]
  },
  {
   "cell_type": "code",
   "execution_count": 262,
   "metadata": {},
   "outputs": [
    {
     "data": {
      "application/vnd.jupyter.widget-view+json": {
       "model_id": "2f176262b763481e89c7ad9e9139777d",
       "version_major": 2,
       "version_minor": 0
      },
      "text/plain": [
       "  0%|          | 0/160 [00:00<?, ?it/s]"
      ]
     },
     "metadata": {},
     "output_type": "display_data"
    },
    {
     "data": {
      "application/vnd.jupyter.widget-view+json": {
       "model_id": "b6230de4e3764078982b509e94d917f2",
       "version_major": 2,
       "version_minor": 0
      },
      "text/plain": [
       "  0%|          | 0/40 [00:00<?, ?it/s]"
      ]
     },
     "metadata": {},
     "output_type": "display_data"
    },
    {
     "name": "stdout",
     "output_type": "stream",
     "text": [
      "K = 1\r\n",
      "Train MAE: 0.0\r\n",
      "Test MAE: 21.06015396675385\n"
     ]
    }
   ],
   "source": [
    "# Train and Test MAE when K = 1\n",
    "K = 1\n",
    "prediction_list_train = predict(X_train, X_train[:, 0].reshape(-1, 1), K, ball_tree, \"regression\")\n",
    "prediction_list_test = predict(X_train, X_test, K, ball_tree, \"regression\")\n",
    "train_mae = mean_absolute_error(y_train, prediction_list_train)\n",
    "test_mae = mean_absolute_error(y_test, prediction_list_test)\n",
    "print(f\"K = {K}\\r\\nTrain MAE: {train_mae}\\r\\nTest MAE: {test_mae}\")"
   ]
  },
  {
   "cell_type": "markdown",
   "metadata": {},
   "source": [
    "**As you can see, we are overfitting (train error is 0 and test error is 21.xx) when K is really small.**"
   ]
  },
  {
   "cell_type": "code",
   "execution_count": 261,
   "metadata": {},
   "outputs": [
    {
     "data": {
      "application/vnd.jupyter.widget-view+json": {
       "model_id": "2aa86d1fbbc64e67a85c637c2455589c",
       "version_major": 2,
       "version_minor": 0
      },
      "text/plain": [
       "  0%|          | 0/160 [00:00<?, ?it/s]"
      ]
     },
     "metadata": {},
     "output_type": "display_data"
    },
    {
     "data": {
      "application/vnd.jupyter.widget-view+json": {
       "model_id": "4d16f57e16e54365a5a6a2b0d00afab0",
       "version_major": 2,
       "version_minor": 0
      },
      "text/plain": [
       "  0%|          | 0/40 [00:00<?, ?it/s]"
      ]
     },
     "metadata": {},
     "output_type": "display_data"
    },
    {
     "name": "stdout",
     "output_type": "stream",
     "text": [
      "K = 8\r\n",
      "Train MAE: 15.679455234935048\r\n",
      "Test MAE: 18.109973678573915\n"
     ]
    }
   ],
   "source": [
    "# Train and Test MAE when K = 8\n",
    "K = 8\n",
    "prediction_list_train = predict(X_train, X_train[:, 0].reshape(-1, 1), K, ball_tree, \"regression\")\n",
    "prediction_list_test = predict(X_train, X_test, K, ball_tree, \"regression\")\n",
    "train_mae = mean_absolute_error(y_train, prediction_list_train)\n",
    "test_mae = mean_absolute_error(y_test, prediction_list_test)\n",
    "print(f\"K = {K}\\r\\nTrain MAE: {train_mae}\\r\\nTest MAE: {test_mae}\")"
   ]
  },
  {
   "cell_type": "markdown",
   "metadata": {},
   "source": [
    "**We get good balance if K is reasonable.**"
   ]
  },
  {
   "cell_type": "code",
   "execution_count": 260,
   "metadata": {},
   "outputs": [
    {
     "data": {
      "application/vnd.jupyter.widget-view+json": {
       "model_id": "4043fcf80ebd42658f68ce191d2f1105",
       "version_major": 2,
       "version_minor": 0
      },
      "text/plain": [
       "  0%|          | 0/160 [00:00<?, ?it/s]"
      ]
     },
     "metadata": {},
     "output_type": "display_data"
    },
    {
     "data": {
      "application/vnd.jupyter.widget-view+json": {
       "model_id": "1393e3c0b24143b184eff094e9ad882e",
       "version_major": 2,
       "version_minor": 0
      },
      "text/plain": [
       "  0%|          | 0/40 [00:00<?, ?it/s]"
      ]
     },
     "metadata": {},
     "output_type": "display_data"
    },
    {
     "name": "stdout",
     "output_type": "stream",
     "text": [
      "K = 120\r\n",
      "Train MAE: 44.377538856980046\r\n",
      "Test MAE: 43.65563703046267\r\n",
      "Train Target mean (of absolute values):64.7415096666418\n"
     ]
    }
   ],
   "source": [
    "# Train and Test MAE when K = 120\n",
    "K = 120\n",
    "prediction_list_train = predict(X_train, X_train[:, 0].reshape(-1, 1), K, ball_tree, \"regression\")\n",
    "prediction_list_test = predict(X_train, X_test, K, ball_tree, \"regression\")\n",
    "train_mae = mean_absolute_error(y_train, prediction_list_train)\n",
    "test_mae = mean_absolute_error(y_test, prediction_list_test)\n",
    "print(f\"K = {K}\\r\\nTrain MAE: {train_mae}\\r\\nTest MAE: {test_mae}\\r\\nTrain Target mean (of absolute values):{np.abs(y_train).mean()}\")"
   ]
  },
  {
   "cell_type": "markdown",
   "metadata": {},
   "source": [
    "**As K approaches N, our model takes more points from the training data as NNs and predictions would be close to \"mean\" of the training target which is just underfitting.**"
   ]
  }
 ],
 "metadata": {
  "kernelspec": {
   "display_name": "Python 3",
   "language": "python",
   "name": "python3"
  },
  "language_info": {
   "codemirror_mode": {
    "name": "ipython",
    "version": 3
   },
   "file_extension": ".py",
   "mimetype": "text/x-python",
   "name": "python",
   "nbconvert_exporter": "python",
   "pygments_lexer": "ipython3",
   "version": "3.7.4"
  }
 },
 "nbformat": 4,
 "nbformat_minor": 2
}
